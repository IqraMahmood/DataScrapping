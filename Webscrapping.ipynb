{
 "cells": [
  {
   "cell_type": "code",
   "execution_count": 1,
   "metadata": {
    "id": "CLQm-u6E_8ne"
   },
   "outputs": [],
   "source": [
    "from bs4 import BeautifulSoup as bs4\n",
    "import requests\n",
    "import pandas as pd"
   ]
  },
  {
   "cell_type": "code",
   "execution_count": 2,
   "metadata": {
    "id": "x1URhM40AS0C"
   },
   "outputs": [],
   "source": [
    "pages=[]\n",
    "prices=[]\n",
    "stars=[]\n",
    "titles=[]\n",
    "urlss=[]\n",
    "\n",
    "pages_to_scrape=5\n",
    "for i in range(1,pages_to_scrape+1):\n",
    "    url = ('https://books.toscrape.com/catalogue/page-{}.html').format(i)\n",
    "    pages.append(url)"
   ]
  },
  {
   "cell_type": "code",
   "execution_count": null,
   "metadata": {
    "id": "mVHo2bH4BLSn"
   },
   "outputs": [],
   "source": []
  },
  {
   "cell_type": "code",
   "execution_count": 3,
   "metadata": {
    "id": "xoywHnCTBMwR"
   },
   "outputs": [],
   "source": [
    "for item in pages:\n",
    "    page = requests.get(item)\n",
    "    soup = bs4(page.text, 'html.parser')\n",
    "    for i in soup.findAll('h3'):\n",
    "        ttl=i.getText()\n",
    "        titles.append(ttl)\n",
    "    for i in soup.findAll('p','price_color'):\n",
    "        price=i.getText()\n",
    "        prices.append(price)\n",
    "    for s in soup.findAll('p', class_='star-rating'):\n",
    "        for k,v in s.attrs.items():\n",
    "            star =v[1]\n",
    "            stars.append(star)\n",
    "    divs =soup.findAll('div', class_='image_container')\n",
    "    for thumbs in divs:\n",
    "        tgs=thumbs.find('img',class_='thumbnail')\n",
    "        urls='http://books.toscrape.com/'+str(tgs['src'])\n",
    "        newurls=urls.replace(\"../\",\"\")\n",
    "        urlss.append(newurls)\n",
    "\n",
    "\n"
   ]
  },
  {
   "cell_type": "code",
   "execution_count": 4,
   "metadata": {
    "id": "gE_MUoM-DosP"
   },
   "outputs": [],
   "source": [
    "data = {'Title': titles ,'Price':prices, 'Starts': stars}\n",
    "df=pd.DataFrame(data=data)\n",
    "df.index+=1"
   ]
  },
  {
   "cell_type": "code",
   "execution_count": 5,
   "metadata": {
    "colab": {
     "base_uri": "https://localhost:8080/",
     "height": 1000
    },
    "id": "bYC54Uj7GiDL",
    "outputId": "a5895fc6-58cf-447f-b4d8-9f46ba483b83"
   },
   "outputs": [
    {
     "data": {
      "text/html": [
       "<div>\n",
       "<style scoped>\n",
       "    .dataframe tbody tr th:only-of-type {\n",
       "        vertical-align: middle;\n",
       "    }\n",
       "\n",
       "    .dataframe tbody tr th {\n",
       "        vertical-align: top;\n",
       "    }\n",
       "\n",
       "    .dataframe thead th {\n",
       "        text-align: right;\n",
       "    }\n",
       "</style>\n",
       "<table border=\"1\" class=\"dataframe\">\n",
       "  <thead>\n",
       "    <tr style=\"text-align: right;\">\n",
       "      <th></th>\n",
       "      <th>Title</th>\n",
       "      <th>Price</th>\n",
       "      <th>Starts</th>\n",
       "    </tr>\n",
       "  </thead>\n",
       "  <tbody>\n",
       "    <tr>\n",
       "      <th>1</th>\n",
       "      <td>A Light in the ...</td>\n",
       "      <td>Â£51.77</td>\n",
       "      <td>Three</td>\n",
       "    </tr>\n",
       "    <tr>\n",
       "      <th>2</th>\n",
       "      <td>Tipping the Velvet</td>\n",
       "      <td>Â£53.74</td>\n",
       "      <td>One</td>\n",
       "    </tr>\n",
       "    <tr>\n",
       "      <th>3</th>\n",
       "      <td>Soumission</td>\n",
       "      <td>Â£50.10</td>\n",
       "      <td>One</td>\n",
       "    </tr>\n",
       "    <tr>\n",
       "      <th>4</th>\n",
       "      <td>Sharp Objects</td>\n",
       "      <td>Â£47.82</td>\n",
       "      <td>Four</td>\n",
       "    </tr>\n",
       "    <tr>\n",
       "      <th>5</th>\n",
       "      <td>Sapiens: A Brief History ...</td>\n",
       "      <td>Â£54.23</td>\n",
       "      <td>Five</td>\n",
       "    </tr>\n",
       "    <tr>\n",
       "      <th>...</th>\n",
       "      <td>...</td>\n",
       "      <td>...</td>\n",
       "      <td>...</td>\n",
       "    </tr>\n",
       "    <tr>\n",
       "      <th>96</th>\n",
       "      <td>Lumberjanes Vol. 3: A ...</td>\n",
       "      <td>Â£19.92</td>\n",
       "      <td>Two</td>\n",
       "    </tr>\n",
       "    <tr>\n",
       "      <th>97</th>\n",
       "      <td>Layered: Baking, Building, and ...</td>\n",
       "      <td>Â£40.11</td>\n",
       "      <td>One</td>\n",
       "    </tr>\n",
       "    <tr>\n",
       "      <th>98</th>\n",
       "      <td>Judo: Seven Steps to ...</td>\n",
       "      <td>Â£53.90</td>\n",
       "      <td>Two</td>\n",
       "    </tr>\n",
       "    <tr>\n",
       "      <th>99</th>\n",
       "      <td>Join</td>\n",
       "      <td>Â£35.67</td>\n",
       "      <td>Five</td>\n",
       "    </tr>\n",
       "    <tr>\n",
       "      <th>100</th>\n",
       "      <td>In the Country We ...</td>\n",
       "      <td>Â£22.00</td>\n",
       "      <td>Four</td>\n",
       "    </tr>\n",
       "  </tbody>\n",
       "</table>\n",
       "<p>100 rows × 3 columns</p>\n",
       "</div>"
      ],
      "text/plain": [
       "                                  Title    Price Starts\n",
       "1                    A Light in the ...  Â£51.77  Three\n",
       "2                    Tipping the Velvet  Â£53.74    One\n",
       "3                            Soumission  Â£50.10    One\n",
       "4                         Sharp Objects  Â£47.82   Four\n",
       "5          Sapiens: A Brief History ...  Â£54.23   Five\n",
       "..                                  ...      ...    ...\n",
       "96            Lumberjanes Vol. 3: A ...  Â£19.92    Two\n",
       "97   Layered: Baking, Building, and ...  Â£40.11    One\n",
       "98             Judo: Seven Steps to ...  Â£53.90    Two\n",
       "99                                 Join  Â£35.67   Five\n",
       "100               In the Country We ...  Â£22.00   Four\n",
       "\n",
       "[100 rows x 3 columns]"
      ]
     },
     "execution_count": 5,
     "metadata": {},
     "output_type": "execute_result"
    }
   ],
   "source": [
    "df"
   ]
  },
  {
   "cell_type": "code",
   "execution_count": 6,
   "metadata": {
    "colab": {
     "base_uri": "https://localhost:8080/",
     "height": 129
    },
    "id": "0f4ClpJgGwxs",
    "outputId": "5eae8086-af07-4f74-f2f4-51482713910d"
   },
   "outputs": [],
   "source": [
    "df.to_excel(\"WEBSCRAPPING_output.xlsx\")"
   ]
  },
  {
   "cell_type": "code",
   "execution_count": null,
   "metadata": {
    "id": "Cu6CCql_JHpg"
   },
   "outputs": [],
   "source": []
  }
 ],
 "metadata": {
  "colab": {
   "name": "Webscrapping.ipynb",
   "provenance": []
  },
  "kernelspec": {
   "display_name": "Python 3",
   "language": "python",
   "name": "python3"
  },
  "language_info": {
   "codemirror_mode": {
    "name": "ipython",
    "version": 3
   },
   "file_extension": ".py",
   "mimetype": "text/x-python",
   "name": "python",
   "nbconvert_exporter": "python",
   "pygments_lexer": "ipython3",
   "version": "3.8.8"
  }
 },
 "nbformat": 4,
 "nbformat_minor": 1
}
